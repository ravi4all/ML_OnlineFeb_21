{
 "cells": [
  {
   "cell_type": "code",
   "execution_count": 1,
   "metadata": {},
   "outputs": [],
   "source": [
    "from sklearn.datasets import fetch_20newsgroups"
   ]
  },
  {
   "cell_type": "code",
   "execution_count": 2,
   "metadata": {},
   "outputs": [],
   "source": [
    "categories = {\n",
    "    'comp.graphics' : 'Graphics',\n",
    "    'misc.forsale' : 'ForSale',\n",
    "    'rec.autos' : 'Auto',\n",
    "    'rec.motorcycles' : 'Motorcycle',\n",
    "    'rec.sport.baseball' : 'Baseball',\n",
    "    'rec.sport.hockey' : 'Hockey',\n",
    "    'sci.electronics' : 'Electronics',\n",
    "    'sci.med' : 'Medical',\n",
    "    'sci.space' : 'Space',\n",
    "    'talk.politics.guns' : 'Guns',\n",
    "    'talk.politics.misc' : 'Politics'\n",
    "} "
   ]
  },
  {
   "cell_type": "code",
   "execution_count": 3,
   "metadata": {},
   "outputs": [],
   "source": [
    "train_data = fetch_20newsgroups(categories=categories, subset='train')"
   ]
  },
  {
   "cell_type": "code",
   "execution_count": 4,
   "metadata": {},
   "outputs": [],
   "source": [
    "test_data = fetch_20newsgroups(categories=categories, subset='test')"
   ]
  },
  {
   "cell_type": "code",
   "execution_count": 5,
   "metadata": {},
   "outputs": [
    {
     "data": {
      "text/plain": [
       "sklearn.utils.Bunch"
      ]
     },
     "execution_count": 5,
     "metadata": {},
     "output_type": "execute_result"
    }
   ],
   "source": [
    "type(train_data)"
   ]
  },
  {
   "cell_type": "code",
   "execution_count": 7,
   "metadata": {},
   "outputs": [
    {
     "data": {
      "text/plain": [
       "array([ 7, 10,  0, ...,  3,  2,  6], dtype=int64)"
      ]
     },
     "execution_count": 7,
     "metadata": {},
     "output_type": "execute_result"
    }
   ],
   "source": [
    "train_data.target"
   ]
  },
  {
   "cell_type": "code",
   "execution_count": 8,
   "metadata": {},
   "outputs": [],
   "source": [
    "x_train = train_data['data']\n",
    "y_train = train_data['target']\n",
    "\n",
    "x_test = test_data['data']\n",
    "y_test = test_data['target']"
   ]
  },
  {
   "cell_type": "code",
   "execution_count": 9,
   "metadata": {},
   "outputs": [
    {
     "data": {
      "text/plain": [
       "\"From: Daniel.Prince@f129.n102.z1.calcom.socal.com (Daniel Prince)\\nSubject: Placebo effects\\nLines: 17\\n\\nI know that the placebo effect is where a patient feels better or \\neven gets better because of his/her belief in the medicine and \\nthe doctor administering it.  Is there also an anti-placebo \\neffect where the patient dislikes/distrusts doctors and medicine \\nand therefore doesn't get better or feel better in spite of the \\nmedicine?\\n\\nIs there an effect where the doctor believes so strongly in a \\nmedicine that he/she sees improvement where the is none or sees \\nmore improvement than there is?  If so, what is this effect \\ncalled?  Is there a reverse of the above effect where the doctor \\ndoesn't believe in a medicine and then sees less improvement than \\nthere is?  What would this effect be called?  Have these effects \\never been studied?  How common are these effects?  Thank you in \\nadvance for all replies. \\n\\n... Information is very valuable but dis-information is MUCH more common.\\n\""
      ]
     },
     "execution_count": 9,
     "metadata": {},
     "output_type": "execute_result"
    }
   ],
   "source": [
    "x_train[0]"
   ]
  },
  {
   "cell_type": "code",
   "execution_count": 10,
   "metadata": {},
   "outputs": [
    {
     "data": {
      "text/plain": [
       "7"
      ]
     },
     "execution_count": 10,
     "metadata": {},
     "output_type": "execute_result"
    }
   ],
   "source": [
    "y_train[0]"
   ]
  },
  {
   "cell_type": "code",
   "execution_count": 11,
   "metadata": {},
   "outputs": [
    {
     "name": "stderr",
     "output_type": "stream",
     "text": [
      "<frozen importlib._bootstrap>:219: RuntimeWarning: numpy.ufunc size changed, may indicate binary incompatibility. Expected 192 from C header, got 216 from PyObject\n"
     ]
    }
   ],
   "source": [
    "from nltk.tokenize import word_tokenize\n",
    "from nltk.corpus import stopwords\n",
    "import string\n",
    "from nltk.stem import PorterStemmer, WordNetLemmatizer\n",
    "from sklearn.feature_extraction.text import CountVectorizer, TfidfVectorizer\n",
    "from sklearn.model_selection import train_test_split\n",
    "from sklearn.naive_bayes import MultinomialNB\n",
    "from sklearn.metrics import accuracy_score, classification_report, confusion_matrix\n",
    "import pandas as pd\n",
    "import numpy as np"
   ]
  },
  {
   "cell_type": "code",
   "execution_count": 12,
   "metadata": {},
   "outputs": [],
   "source": [
    "def text_processing(df):\n",
    "    table = str.maketrans('', '', string.punctuation)\n",
    "    for i in range(len(df)):\n",
    "        df[i] = df[i].lower().translate(table)\n",
    "    \n",
    "    tokens = []\n",
    "    for i in range(len(df)):\n",
    "        tokens.append(word_tokenize(df[i]))\n",
    "        \n",
    "    eng_stopwords = stopwords.words('english')\n",
    "    wordsList = []\n",
    "    for tokenList in tokens:\n",
    "        words = []\n",
    "        for token in tokenList:\n",
    "            if token not in eng_stopwords:\n",
    "                words.append(token)\n",
    "        wordsList.append(words)\n",
    "        \n",
    "    wnet = WordNetLemmatizer()\n",
    "    for i in range(len(wordsList)):\n",
    "        for j in range(len(wordsList[i])):\n",
    "            wordsList[i][j] = wnet.lemmatize(wordsList[i][j], pos='v')\n",
    "            \n",
    "    for i in range(len(wordsList)):\n",
    "        wordsList[i] = ' '.join(wordsList[i])\n",
    "    \n",
    "    return wordsList"
   ]
  },
  {
   "cell_type": "code",
   "execution_count": 13,
   "metadata": {},
   "outputs": [],
   "source": [
    "x_train = text_processing(x_train)"
   ]
  },
  {
   "cell_type": "code",
   "execution_count": 14,
   "metadata": {},
   "outputs": [
    {
     "data": {
      "text/plain": [
       "'danielprincef129n102z1calcomsocalcom daniel prince subject placebo effect line 17 know placebo effect patient feel better even get better hisher belief medicine doctor administer also antiplacebo effect patient dislikesdistrusts doctor medicine therefore doesnt get better feel better spite medicine effect doctor believe strongly medicine heshe see improvement none see improvement effect call reverse effect doctor doesnt believe medicine see less improvement would effect call effect ever study common effect thank advance reply information valuable disinformation much common'"
      ]
     },
     "execution_count": 14,
     "metadata": {},
     "output_type": "execute_result"
    }
   ],
   "source": [
    "x_train[0]"
   ]
  },
  {
   "cell_type": "code",
   "execution_count": 15,
   "metadata": {},
   "outputs": [],
   "source": [
    "tfidf = TfidfVectorizer()\n",
    "x_train = tfidf.fit_transform(x_train).toarray()"
   ]
  },
  {
   "cell_type": "code",
   "execution_count": 16,
   "metadata": {},
   "outputs": [
    {
     "data": {
      "text/plain": [
       "(6347, 73431)"
      ]
     },
     "execution_count": 16,
     "metadata": {},
     "output_type": "execute_result"
    }
   ],
   "source": [
    "x_train.shape"
   ]
  },
  {
   "cell_type": "code",
   "execution_count": 17,
   "metadata": {},
   "outputs": [
    {
     "data": {
      "text/plain": [
       "MultinomialNB()"
      ]
     },
     "execution_count": 17,
     "metadata": {},
     "output_type": "execute_result"
    }
   ],
   "source": [
    "nb = MultinomialNB()\n",
    "nb.fit(x_train, y_train)"
   ]
  },
  {
   "cell_type": "code",
   "execution_count": 19,
   "metadata": {},
   "outputs": [],
   "source": [
    "x_test = text_processing(x_test)\n",
    "x_test = tfidf.transform(x_test).toarray()\n",
    "y_pred = nb.predict(x_test)"
   ]
  },
  {
   "cell_type": "code",
   "execution_count": 20,
   "metadata": {},
   "outputs": [
    {
     "data": {
      "text/plain": [
       "0.8958826313298628"
      ]
     },
     "execution_count": 20,
     "metadata": {},
     "output_type": "execute_result"
    }
   ],
   "source": [
    "accuracy_score(y_test, y_pred)"
   ]
  },
  {
   "cell_type": "code",
   "execution_count": 21,
   "metadata": {},
   "outputs": [
    {
     "data": {
      "text/plain": [
       "array([3], dtype=int64)"
      ]
     },
     "execution_count": 21,
     "metadata": {},
     "output_type": "execute_result"
    }
   ],
   "source": [
    "test_data = [\"After launching a bunch of low-speed electric scooters, Joy E-Bike has launched Skyline (Rs 2.29 lakh), Hurricane (Rs 2.33 lakh), Thunderbolt (Rs 2.33 lakh) and Beast (Rs 2.42 lakh), making these the costliest EVs on sale in the country at the moment. The Skyline and the Thunderbolt are the brand’s fully faired offerings while the Beast and the Hurricane cater to the streetfighter enthusiasts. Just like with the Kabira KM 3000 and the KM 4000, these bikes look like blatant ripoffs of some popular ICE motorcycles.\"]\n",
    "\n",
    "test_data = text_processing(test_data)\n",
    "test_data = tfidf.transform(test_data).toarray()\n",
    "nb.predict(test_data)"
   ]
  },
  {
   "cell_type": "code",
   "execution_count": null,
   "metadata": {},
   "outputs": [],
   "source": []
  }
 ],
 "metadata": {
  "kernelspec": {
   "display_name": "Python 3",
   "language": "python",
   "name": "python3"
  },
  "language_info": {
   "codemirror_mode": {
    "name": "ipython",
    "version": 3
   },
   "file_extension": ".py",
   "mimetype": "text/x-python",
   "name": "python",
   "nbconvert_exporter": "python",
   "pygments_lexer": "ipython3",
   "version": "3.8.5"
  }
 },
 "nbformat": 4,
 "nbformat_minor": 4
}
