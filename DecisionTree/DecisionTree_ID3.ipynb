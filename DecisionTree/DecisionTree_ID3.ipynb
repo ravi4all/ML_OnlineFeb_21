{
 "cells": [
  {
   "cell_type": "code",
   "execution_count": 1,
   "metadata": {},
   "outputs": [],
   "source": [
    "import numpy as np\n",
    "import pandas as pd"
   ]
  },
  {
   "cell_type": "code",
   "execution_count": 2,
   "metadata": {},
   "outputs": [],
   "source": [
    "data = {\n",
    "    \"outlook\" : ['sunny','sunny','overcast','rainy','rainy','rainy','overcast','sunny','sunny','rainy','sunny','overcast','overcast','rainy'],\n",
    "    \"temp\" : ['hot','hot','hot','mild','cool','cool','cool','mild','cool','mild','mild','mild','hot','mild'],\n",
    "    'humidity' : ['high','high','high','high','normal','normal','normal','high','normal','normal','normal','high','normal','high'],\n",
    "    'windy' : ['false','true','false','false','false','true','true','false','false','false','true','true','false','true'],\n",
    "    'play' : ['no','no','yes','yes','yes','no','yes','no','yes','yes','yes','yes','yes','no']\n",
    "}"
   ]
  },
  {
   "cell_type": "code",
   "execution_count": 3,
   "metadata": {},
   "outputs": [],
   "source": [
    "df = pd.DataFrame(data)"
   ]
  },
  {
   "cell_type": "code",
   "execution_count": 4,
   "metadata": {},
   "outputs": [
    {
     "data": {
      "text/html": [
       "<div>\n",
       "<style scoped>\n",
       "    .dataframe tbody tr th:only-of-type {\n",
       "        vertical-align: middle;\n",
       "    }\n",
       "\n",
       "    .dataframe tbody tr th {\n",
       "        vertical-align: top;\n",
       "    }\n",
       "\n",
       "    .dataframe thead th {\n",
       "        text-align: right;\n",
       "    }\n",
       "</style>\n",
       "<table border=\"1\" class=\"dataframe\">\n",
       "  <thead>\n",
       "    <tr style=\"text-align: right;\">\n",
       "      <th></th>\n",
       "      <th>outlook</th>\n",
       "      <th>temp</th>\n",
       "      <th>humidity</th>\n",
       "      <th>windy</th>\n",
       "      <th>play</th>\n",
       "    </tr>\n",
       "  </thead>\n",
       "  <tbody>\n",
       "    <tr>\n",
       "      <th>0</th>\n",
       "      <td>sunny</td>\n",
       "      <td>hot</td>\n",
       "      <td>high</td>\n",
       "      <td>false</td>\n",
       "      <td>no</td>\n",
       "    </tr>\n",
       "    <tr>\n",
       "      <th>1</th>\n",
       "      <td>sunny</td>\n",
       "      <td>hot</td>\n",
       "      <td>high</td>\n",
       "      <td>true</td>\n",
       "      <td>no</td>\n",
       "    </tr>\n",
       "    <tr>\n",
       "      <th>2</th>\n",
       "      <td>overcast</td>\n",
       "      <td>hot</td>\n",
       "      <td>high</td>\n",
       "      <td>false</td>\n",
       "      <td>yes</td>\n",
       "    </tr>\n",
       "    <tr>\n",
       "      <th>3</th>\n",
       "      <td>rainy</td>\n",
       "      <td>mild</td>\n",
       "      <td>high</td>\n",
       "      <td>false</td>\n",
       "      <td>yes</td>\n",
       "    </tr>\n",
       "    <tr>\n",
       "      <th>4</th>\n",
       "      <td>rainy</td>\n",
       "      <td>cool</td>\n",
       "      <td>normal</td>\n",
       "      <td>false</td>\n",
       "      <td>yes</td>\n",
       "    </tr>\n",
       "  </tbody>\n",
       "</table>\n",
       "</div>"
      ],
      "text/plain": [
       "    outlook  temp humidity  windy play\n",
       "0     sunny   hot     high  false   no\n",
       "1     sunny   hot     high   true   no\n",
       "2  overcast   hot     high  false  yes\n",
       "3     rainy  mild     high  false  yes\n",
       "4     rainy  cool   normal  false  yes"
      ]
     },
     "execution_count": 4,
     "metadata": {},
     "output_type": "execute_result"
    }
   ],
   "source": [
    "df.head()"
   ]
  },
  {
   "cell_type": "code",
   "execution_count": 5,
   "metadata": {},
   "outputs": [
    {
     "data": {
      "text/plain": [
       "play\n",
       "yes    9\n",
       "no     5\n",
       "dtype: int64"
      ]
     },
     "execution_count": 5,
     "metadata": {},
     "output_type": "execute_result"
    }
   ],
   "source": [
    "df.value_counts('play')"
   ]
  },
  {
   "cell_type": "code",
   "execution_count": 6,
   "metadata": {},
   "outputs": [
    {
     "data": {
      "text/plain": [
       "array(['no', 'yes'], dtype=object)"
      ]
     },
     "execution_count": 6,
     "metadata": {},
     "output_type": "execute_result"
    }
   ],
   "source": [
    "pd.unique(df['play'])"
   ]
  },
  {
   "cell_type": "code",
   "execution_count": 7,
   "metadata": {},
   "outputs": [],
   "source": [
    "values = pd.unique(df['play'])\n",
    "entropy = 0\n",
    "n = len(df)\n",
    "for value in values:\n",
    "    x = df['play'].value_counts()[value] / n\n",
    "    entropy += -x * np.log2(x)"
   ]
  },
  {
   "cell_type": "code",
   "execution_count": 8,
   "metadata": {},
   "outputs": [
    {
     "data": {
      "text/plain": [
       "0.9402859586706311"
      ]
     },
     "execution_count": 8,
     "metadata": {},
     "output_type": "execute_result"
    }
   ],
   "source": [
    "entropy"
   ]
  },
  {
   "cell_type": "code",
   "execution_count": 9,
   "metadata": {},
   "outputs": [
    {
     "data": {
      "text/plain": [
       "array(['sunny', 'overcast', 'rainy'], dtype=object)"
      ]
     },
     "execution_count": 9,
     "metadata": {},
     "output_type": "execute_result"
    }
   ],
   "source": [
    "df['outlook'].unique()"
   ]
  },
  {
   "cell_type": "code",
   "execution_count": 10,
   "metadata": {},
   "outputs": [
    {
     "data": {
      "text/plain": [
       "rainy       5\n",
       "sunny       5\n",
       "overcast    4\n",
       "Name: outlook, dtype: int64"
      ]
     },
     "execution_count": 10,
     "metadata": {},
     "output_type": "execute_result"
    }
   ],
   "source": [
    "df['outlook'].value_counts()"
   ]
  },
  {
   "cell_type": "code",
   "execution_count": 11,
   "metadata": {},
   "outputs": [
    {
     "data": {
      "text/plain": [
       "outlook   play\n",
       "overcast  yes     4\n",
       "rainy     yes     3\n",
       "          no      2\n",
       "sunny     no      3\n",
       "          yes     2\n",
       "Name: play, dtype: int64"
      ]
     },
     "execution_count": 11,
     "metadata": {},
     "output_type": "execute_result"
    }
   ],
   "source": [
    "df.groupby('outlook')['play'].value_counts()"
   ]
  },
  {
   "cell_type": "code",
   "execution_count": 12,
   "metadata": {},
   "outputs": [
    {
     "data": {
      "text/html": [
       "<div>\n",
       "<style scoped>\n",
       "    .dataframe tbody tr th:only-of-type {\n",
       "        vertical-align: middle;\n",
       "    }\n",
       "\n",
       "    .dataframe tbody tr th {\n",
       "        vertical-align: top;\n",
       "    }\n",
       "\n",
       "    .dataframe thead th {\n",
       "        text-align: right;\n",
       "    }\n",
       "</style>\n",
       "<table border=\"1\" class=\"dataframe\">\n",
       "  <thead>\n",
       "    <tr style=\"text-align: right;\">\n",
       "      <th></th>\n",
       "      <th>outlook</th>\n",
       "      <th>temp</th>\n",
       "      <th>humidity</th>\n",
       "      <th>windy</th>\n",
       "      <th>play</th>\n",
       "    </tr>\n",
       "  </thead>\n",
       "  <tbody>\n",
       "    <tr>\n",
       "      <th>3</th>\n",
       "      <td>rainy</td>\n",
       "      <td>mild</td>\n",
       "      <td>high</td>\n",
       "      <td>false</td>\n",
       "      <td>yes</td>\n",
       "    </tr>\n",
       "    <tr>\n",
       "      <th>4</th>\n",
       "      <td>rainy</td>\n",
       "      <td>cool</td>\n",
       "      <td>normal</td>\n",
       "      <td>false</td>\n",
       "      <td>yes</td>\n",
       "    </tr>\n",
       "    <tr>\n",
       "      <th>5</th>\n",
       "      <td>rainy</td>\n",
       "      <td>cool</td>\n",
       "      <td>normal</td>\n",
       "      <td>true</td>\n",
       "      <td>no</td>\n",
       "    </tr>\n",
       "    <tr>\n",
       "      <th>9</th>\n",
       "      <td>rainy</td>\n",
       "      <td>mild</td>\n",
       "      <td>normal</td>\n",
       "      <td>false</td>\n",
       "      <td>yes</td>\n",
       "    </tr>\n",
       "    <tr>\n",
       "      <th>13</th>\n",
       "      <td>rainy</td>\n",
       "      <td>mild</td>\n",
       "      <td>high</td>\n",
       "      <td>true</td>\n",
       "      <td>no</td>\n",
       "    </tr>\n",
       "  </tbody>\n",
       "</table>\n",
       "</div>"
      ],
      "text/plain": [
       "   outlook  temp humidity  windy play\n",
       "3    rainy  mild     high  false  yes\n",
       "4    rainy  cool   normal  false  yes\n",
       "5    rainy  cool   normal   true   no\n",
       "9    rainy  mild   normal  false  yes\n",
       "13   rainy  mild     high   true   no"
      ]
     },
     "execution_count": 12,
     "metadata": {},
     "output_type": "execute_result"
    }
   ],
   "source": [
    "df[df['outlook'] == 'rainy']"
   ]
  },
  {
   "cell_type": "code",
   "execution_count": 14,
   "metadata": {},
   "outputs": [
    {
     "name": "stderr",
     "output_type": "stream",
     "text": [
      "<ipython-input-14-f1803e9b177c>:1: UserWarning: Boolean Series key will be reindexed to match DataFrame index.\n",
      "  df[df['outlook'] == 'rainy'][df['play'] == 'no']['outlook']\n"
     ]
    },
    {
     "data": {
      "text/plain": [
       "5     rainy\n",
       "13    rainy\n",
       "Name: outlook, dtype: object"
      ]
     },
     "execution_count": 14,
     "metadata": {},
     "output_type": "execute_result"
    }
   ],
   "source": [
    "df[df['outlook'] == 'rainy'][df['play'] == 'no']['outlook']"
   ]
  },
  {
   "cell_type": "code",
   "execution_count": 17,
   "metadata": {},
   "outputs": [],
   "source": [
    "def calc_avg(df, feature):\n",
    "    target_values = pd.unique(df['play'])\n",
    "    variables = df[feature].unique()\n",
    "    avg = 0\n",
    "    for var in variables:\n",
    "        entropy = 0\n",
    "        for target in target_values:\n",
    "            x = len(df[df[feature] == var][df['play'] == target][feature])\n",
    "            y = len(df[df[feature] == var][feature])\n",
    "            e = x / (y + np.finfo(float).eps)\n",
    "            entropy += -e * np.log2(e + np.finfo(float).eps)\n",
    "        attr = y / len(df)\n",
    "        avg += attr * entropy\n",
    "    return avg"
   ]
  },
  {
   "cell_type": "code",
   "execution_count": 18,
   "metadata": {},
   "outputs": [
    {
     "name": "stderr",
     "output_type": "stream",
     "text": [
      "<ipython-input-17-434e3405f1f8>:8: UserWarning: Boolean Series key will be reindexed to match DataFrame index.\n",
      "  x = len(df[df[feature] == var][df['play'] == target][feature])\n"
     ]
    },
    {
     "data": {
      "text/plain": [
       "0.6935361388961914"
      ]
     },
     "execution_count": 18,
     "metadata": {},
     "output_type": "execute_result"
    }
   ],
   "source": [
    "calc_avg(df, 'outlook')"
   ]
  },
  {
   "cell_type": "code",
   "execution_count": 19,
   "metadata": {},
   "outputs": [
    {
     "name": "stderr",
     "output_type": "stream",
     "text": [
      "<ipython-input-17-434e3405f1f8>:8: UserWarning: Boolean Series key will be reindexed to match DataFrame index.\n",
      "  x = len(df[df[feature] == var][df['play'] == target][feature])\n"
     ]
    },
    {
     "data": {
      "text/plain": [
       "0.9110633930116756"
      ]
     },
     "execution_count": 19,
     "metadata": {},
     "output_type": "execute_result"
    }
   ],
   "source": [
    "calc_avg(df, 'temp')"
   ]
  },
  {
   "cell_type": "code",
   "execution_count": 20,
   "metadata": {},
   "outputs": [
    {
     "name": "stderr",
     "output_type": "stream",
     "text": [
      "<ipython-input-17-434e3405f1f8>:8: UserWarning: Boolean Series key will be reindexed to match DataFrame index.\n",
      "  x = len(df[df[feature] == var][df['play'] == target][feature])\n"
     ]
    },
    {
     "data": {
      "text/plain": [
       "0.892158928262361"
      ]
     },
     "execution_count": 20,
     "metadata": {},
     "output_type": "execute_result"
    }
   ],
   "source": [
    "calc_avg(df, 'windy')"
   ]
  },
  {
   "cell_type": "code",
   "execution_count": 21,
   "metadata": {},
   "outputs": [
    {
     "name": "stderr",
     "output_type": "stream",
     "text": [
      "<ipython-input-17-434e3405f1f8>:8: UserWarning: Boolean Series key will be reindexed to match DataFrame index.\n",
      "  x = len(df[df[feature] == var][df['play'] == target][feature])\n"
     ]
    },
    {
     "data": {
      "text/plain": [
       "0.7884504573082889"
      ]
     },
     "execution_count": 21,
     "metadata": {},
     "output_type": "execute_result"
    }
   ],
   "source": [
    "calc_avg(df, 'humidity')"
   ]
  },
  {
   "cell_type": "code",
   "execution_count": 22,
   "metadata": {},
   "outputs": [
    {
     "name": "stderr",
     "output_type": "stream",
     "text": [
      "<ipython-input-17-434e3405f1f8>:8: UserWarning: Boolean Series key will be reindexed to match DataFrame index.\n",
      "  x = len(df[df[feature] == var][df['play'] == target][feature])\n"
     ]
    },
    {
     "data": {
      "text/plain": [
       "0.24674981977443977"
      ]
     },
     "execution_count": 22,
     "metadata": {},
     "output_type": "execute_result"
    }
   ],
   "source": [
    "entropy - calc_avg(df, 'outlook')"
   ]
  },
  {
   "cell_type": "code",
   "execution_count": 23,
   "metadata": {},
   "outputs": [
    {
     "name": "stderr",
     "output_type": "stream",
     "text": [
      "<ipython-input-17-434e3405f1f8>:8: UserWarning: Boolean Series key will be reindexed to match DataFrame index.\n",
      "  x = len(df[df[feature] == var][df['play'] == target][feature])\n"
     ]
    }
   ],
   "source": [
    "entropy_attrs = {}\n",
    "for i in range(len(df.columns) - 1):\n",
    "    entropy_attrs[df.columns[i]] = calc_avg(df, df.columns[i])"
   ]
  },
  {
   "cell_type": "code",
   "execution_count": 24,
   "metadata": {},
   "outputs": [
    {
     "data": {
      "text/plain": [
       "{'outlook': 0.6935361388961914,\n",
       " 'temp': 0.9110633930116756,\n",
       " 'humidity': 0.7884504573082889,\n",
       " 'windy': 0.892158928262361}"
      ]
     },
     "execution_count": 24,
     "metadata": {},
     "output_type": "execute_result"
    }
   ],
   "source": [
    "entropy_attrs"
   ]
  },
  {
   "cell_type": "code",
   "execution_count": 25,
   "metadata": {},
   "outputs": [],
   "source": [
    "gain = {}\n",
    "for key in entropy_attrs:\n",
    "    gain[key] = entropy - entropy_attrs[key]"
   ]
  },
  {
   "cell_type": "code",
   "execution_count": 26,
   "metadata": {},
   "outputs": [
    {
     "data": {
      "text/plain": [
       "{'outlook': 0.24674981977443977,\n",
       " 'temp': 0.029222565658955535,\n",
       " 'humidity': 0.15183550136234225,\n",
       " 'windy': 0.048127030408270155}"
      ]
     },
     "execution_count": 26,
     "metadata": {},
     "output_type": "execute_result"
    }
   ],
   "source": [
    "gain"
   ]
  },
  {
   "cell_type": "code",
   "execution_count": null,
   "metadata": {},
   "outputs": [],
   "source": []
  },
  {
   "cell_type": "code",
   "execution_count": null,
   "metadata": {},
   "outputs": [],
   "source": []
  },
  {
   "cell_type": "code",
   "execution_count": 29,
   "metadata": {},
   "outputs": [],
   "source": [
    "def calc_avg(df, feature):\n",
    "    target_values = pd.unique(df['play'])\n",
    "    variables = df[feature].unique()\n",
    "    avg = 0\n",
    "    for var in variables:\n",
    "        entropy = 0\n",
    "        for target in target_values:\n",
    "            x = len(df[df[feature] == var][df['play'] == target][feature])\n",
    "            y = len(df[df[feature] == var][feature])\n",
    "            e = x / (y + np.finfo(float).eps)\n",
    "            entropy += -e * np.log2(e + np.finfo(float).eps)\n",
    "        attr = y / len(df)\n",
    "        avg += attr * entropy\n",
    "    return avg\n",
    "\n",
    "def calc_entropy():\n",
    "    values = pd.unique(df['play'])\n",
    "    entropy = 0\n",
    "    n = len(df)\n",
    "    for value in values:\n",
    "        x = df['play'].value_counts()[value] / n\n",
    "        entropy += -x * np.log2(x)\n",
    "    return entropy\n",
    "\n",
    "def find_node(df):\n",
    "    entropy_attrs = {}\n",
    "    entropy = calc_entropy()\n",
    "    for i in range(len(df.columns) - 1):\n",
    "        entropy_attrs[df.columns[i]] = calc_avg(df, df.columns[i])\n",
    "    \n",
    "    gain = {}\n",
    "    for key in entropy_attrs:\n",
    "        gain[key] = entropy - entropy_attrs[key]\n",
    "    \n",
    "    node = max(gain, key=gain.get)\n",
    "    return node\n",
    "\n",
    "def dropData(df, node, value):\n",
    "    return df[df[node] == value].reset_index(drop=True)\n",
    "\n",
    "def buildTree(df, tree=None):\n",
    "    node = find_node(df)\n",
    "    \n",
    "    if tree is None:\n",
    "        tree = {}\n",
    "        tree[node] = {}\n",
    "    \n",
    "    values = df[node].unique()\n",
    "    for val in values:\n",
    "        sub_df = dropData(df, node, val)\n",
    "        target, count = np.unique(sub_df['play'], return_counts = True)\n",
    "        #[['no','yes'][2,3]]\n",
    "        if len(target) == 1:\n",
    "            tree[node][val] = target[0]\n",
    "        else:\n",
    "            tree[node][val] = buildTree(sub_df)\n",
    "    return tree"
   ]
  },
  {
   "cell_type": "code",
   "execution_count": 30,
   "metadata": {},
   "outputs": [
    {
     "name": "stderr",
     "output_type": "stream",
     "text": [
      "<ipython-input-29-7c76fbfb9e1e>:8: UserWarning: Boolean Series key will be reindexed to match DataFrame index.\n",
      "  x = len(df[df[feature] == var][df['play'] == target][feature])\n"
     ]
    },
    {
     "data": {
      "text/plain": [
       "{'outlook': {'sunny': {'humidity': {'high': 'no', 'normal': 'yes'}},\n",
       "  'overcast': 'yes',\n",
       "  'rainy': {'windy': {'false': 'yes', 'true': 'no'}}}}"
      ]
     },
     "execution_count": 30,
     "metadata": {},
     "output_type": "execute_result"
    }
   ],
   "source": [
    "buildTree(df)"
   ]
  },
  {
   "cell_type": "code",
   "execution_count": null,
   "metadata": {},
   "outputs": [],
   "source": []
  }
 ],
 "metadata": {
  "kernelspec": {
   "display_name": "Python 3",
   "language": "python",
   "name": "python3"
  },
  "language_info": {
   "codemirror_mode": {
    "name": "ipython",
    "version": 3
   },
   "file_extension": ".py",
   "mimetype": "text/x-python",
   "name": "python",
   "nbconvert_exporter": "python",
   "pygments_lexer": "ipython3",
   "version": "3.8.5"
  }
 },
 "nbformat": 4,
 "nbformat_minor": 4
}
