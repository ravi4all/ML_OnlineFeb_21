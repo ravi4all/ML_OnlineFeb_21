{
 "cells": [
  {
   "cell_type": "code",
   "execution_count": 1,
   "metadata": {},
   "outputs": [],
   "source": [
    "import pandas as pd"
   ]
  },
  {
   "cell_type": "code",
   "execution_count": 3,
   "metadata": {},
   "outputs": [],
   "source": [
    "summer_df = pd.read_csv('olympic-games/summer.csv')"
   ]
  },
  {
   "cell_type": "code",
   "execution_count": 4,
   "metadata": {},
   "outputs": [
    {
     "data": {
      "text/plain": [
       "(31165, 9)"
      ]
     },
     "execution_count": 4,
     "metadata": {},
     "output_type": "execute_result"
    }
   ],
   "source": [
    "summer_df.shape"
   ]
  },
  {
   "cell_type": "code",
   "execution_count": 5,
   "metadata": {},
   "outputs": [
    {
     "data": {
      "text/html": [
       "<div>\n",
       "<style scoped>\n",
       "    .dataframe tbody tr th:only-of-type {\n",
       "        vertical-align: middle;\n",
       "    }\n",
       "\n",
       "    .dataframe tbody tr th {\n",
       "        vertical-align: top;\n",
       "    }\n",
       "\n",
       "    .dataframe thead th {\n",
       "        text-align: right;\n",
       "    }\n",
       "</style>\n",
       "<table border=\"1\" class=\"dataframe\">\n",
       "  <thead>\n",
       "    <tr style=\"text-align: right;\">\n",
       "      <th></th>\n",
       "      <th>Year</th>\n",
       "      <th>City</th>\n",
       "      <th>Sport</th>\n",
       "      <th>Discipline</th>\n",
       "      <th>Athlete</th>\n",
       "      <th>Country</th>\n",
       "      <th>Gender</th>\n",
       "      <th>Event</th>\n",
       "      <th>Medal</th>\n",
       "    </tr>\n",
       "  </thead>\n",
       "  <tbody>\n",
       "    <tr>\n",
       "      <th>0</th>\n",
       "      <td>1896</td>\n",
       "      <td>Athens</td>\n",
       "      <td>Aquatics</td>\n",
       "      <td>Swimming</td>\n",
       "      <td>HAJOS, Alfred</td>\n",
       "      <td>HUN</td>\n",
       "      <td>Men</td>\n",
       "      <td>100M Freestyle</td>\n",
       "      <td>Gold</td>\n",
       "    </tr>\n",
       "    <tr>\n",
       "      <th>1</th>\n",
       "      <td>1896</td>\n",
       "      <td>Athens</td>\n",
       "      <td>Aquatics</td>\n",
       "      <td>Swimming</td>\n",
       "      <td>HERSCHMANN, Otto</td>\n",
       "      <td>AUT</td>\n",
       "      <td>Men</td>\n",
       "      <td>100M Freestyle</td>\n",
       "      <td>Silver</td>\n",
       "    </tr>\n",
       "    <tr>\n",
       "      <th>2</th>\n",
       "      <td>1896</td>\n",
       "      <td>Athens</td>\n",
       "      <td>Aquatics</td>\n",
       "      <td>Swimming</td>\n",
       "      <td>DRIVAS, Dimitrios</td>\n",
       "      <td>GRE</td>\n",
       "      <td>Men</td>\n",
       "      <td>100M Freestyle For Sailors</td>\n",
       "      <td>Bronze</td>\n",
       "    </tr>\n",
       "    <tr>\n",
       "      <th>3</th>\n",
       "      <td>1896</td>\n",
       "      <td>Athens</td>\n",
       "      <td>Aquatics</td>\n",
       "      <td>Swimming</td>\n",
       "      <td>MALOKINIS, Ioannis</td>\n",
       "      <td>GRE</td>\n",
       "      <td>Men</td>\n",
       "      <td>100M Freestyle For Sailors</td>\n",
       "      <td>Gold</td>\n",
       "    </tr>\n",
       "    <tr>\n",
       "      <th>4</th>\n",
       "      <td>1896</td>\n",
       "      <td>Athens</td>\n",
       "      <td>Aquatics</td>\n",
       "      <td>Swimming</td>\n",
       "      <td>CHASAPIS, Spiridon</td>\n",
       "      <td>GRE</td>\n",
       "      <td>Men</td>\n",
       "      <td>100M Freestyle For Sailors</td>\n",
       "      <td>Silver</td>\n",
       "    </tr>\n",
       "  </tbody>\n",
       "</table>\n",
       "</div>"
      ],
      "text/plain": [
       "   Year    City     Sport Discipline             Athlete Country Gender  \\\n",
       "0  1896  Athens  Aquatics   Swimming       HAJOS, Alfred     HUN    Men   \n",
       "1  1896  Athens  Aquatics   Swimming    HERSCHMANN, Otto     AUT    Men   \n",
       "2  1896  Athens  Aquatics   Swimming   DRIVAS, Dimitrios     GRE    Men   \n",
       "3  1896  Athens  Aquatics   Swimming  MALOKINIS, Ioannis     GRE    Men   \n",
       "4  1896  Athens  Aquatics   Swimming  CHASAPIS, Spiridon     GRE    Men   \n",
       "\n",
       "                        Event   Medal  \n",
       "0              100M Freestyle    Gold  \n",
       "1              100M Freestyle  Silver  \n",
       "2  100M Freestyle For Sailors  Bronze  \n",
       "3  100M Freestyle For Sailors    Gold  \n",
       "4  100M Freestyle For Sailors  Silver  "
      ]
     },
     "execution_count": 5,
     "metadata": {},
     "output_type": "execute_result"
    }
   ],
   "source": [
    "summer_df.head()"
   ]
  },
  {
   "cell_type": "code",
   "execution_count": 6,
   "metadata": {},
   "outputs": [
    {
     "data": {
      "text/html": [
       "<div>\n",
       "<style scoped>\n",
       "    .dataframe tbody tr th:only-of-type {\n",
       "        vertical-align: middle;\n",
       "    }\n",
       "\n",
       "    .dataframe tbody tr th {\n",
       "        vertical-align: top;\n",
       "    }\n",
       "\n",
       "    .dataframe thead th {\n",
       "        text-align: right;\n",
       "    }\n",
       "</style>\n",
       "<table border=\"1\" class=\"dataframe\">\n",
       "  <thead>\n",
       "    <tr style=\"text-align: right;\">\n",
       "      <th></th>\n",
       "      <th>Year</th>\n",
       "      <th>City</th>\n",
       "      <th>Sport</th>\n",
       "      <th>Discipline</th>\n",
       "      <th>Athlete</th>\n",
       "      <th>Country</th>\n",
       "      <th>Gender</th>\n",
       "      <th>Event</th>\n",
       "      <th>Medal</th>\n",
       "    </tr>\n",
       "  </thead>\n",
       "  <tbody>\n",
       "    <tr>\n",
       "      <th>31160</th>\n",
       "      <td>2012</td>\n",
       "      <td>London</td>\n",
       "      <td>Wrestling</td>\n",
       "      <td>Wrestling Freestyle</td>\n",
       "      <td>JANIKOWSKI, Damian</td>\n",
       "      <td>POL</td>\n",
       "      <td>Men</td>\n",
       "      <td>Wg 84 KG</td>\n",
       "      <td>Bronze</td>\n",
       "    </tr>\n",
       "    <tr>\n",
       "      <th>31161</th>\n",
       "      <td>2012</td>\n",
       "      <td>London</td>\n",
       "      <td>Wrestling</td>\n",
       "      <td>Wrestling Freestyle</td>\n",
       "      <td>REZAEI, Ghasem Gholamreza</td>\n",
       "      <td>IRI</td>\n",
       "      <td>Men</td>\n",
       "      <td>Wg 96 KG</td>\n",
       "      <td>Gold</td>\n",
       "    </tr>\n",
       "    <tr>\n",
       "      <th>31162</th>\n",
       "      <td>2012</td>\n",
       "      <td>London</td>\n",
       "      <td>Wrestling</td>\n",
       "      <td>Wrestling Freestyle</td>\n",
       "      <td>TOTROV, Rustam</td>\n",
       "      <td>RUS</td>\n",
       "      <td>Men</td>\n",
       "      <td>Wg 96 KG</td>\n",
       "      <td>Silver</td>\n",
       "    </tr>\n",
       "    <tr>\n",
       "      <th>31163</th>\n",
       "      <td>2012</td>\n",
       "      <td>London</td>\n",
       "      <td>Wrestling</td>\n",
       "      <td>Wrestling Freestyle</td>\n",
       "      <td>ALEKSANYAN, Artur</td>\n",
       "      <td>ARM</td>\n",
       "      <td>Men</td>\n",
       "      <td>Wg 96 KG</td>\n",
       "      <td>Bronze</td>\n",
       "    </tr>\n",
       "    <tr>\n",
       "      <th>31164</th>\n",
       "      <td>2012</td>\n",
       "      <td>London</td>\n",
       "      <td>Wrestling</td>\n",
       "      <td>Wrestling Freestyle</td>\n",
       "      <td>LIDBERG, Jimmy</td>\n",
       "      <td>SWE</td>\n",
       "      <td>Men</td>\n",
       "      <td>Wg 96 KG</td>\n",
       "      <td>Bronze</td>\n",
       "    </tr>\n",
       "  </tbody>\n",
       "</table>\n",
       "</div>"
      ],
      "text/plain": [
       "       Year    City      Sport           Discipline  \\\n",
       "31160  2012  London  Wrestling  Wrestling Freestyle   \n",
       "31161  2012  London  Wrestling  Wrestling Freestyle   \n",
       "31162  2012  London  Wrestling  Wrestling Freestyle   \n",
       "31163  2012  London  Wrestling  Wrestling Freestyle   \n",
       "31164  2012  London  Wrestling  Wrestling Freestyle   \n",
       "\n",
       "                         Athlete Country Gender     Event   Medal  \n",
       "31160         JANIKOWSKI, Damian     POL    Men  Wg 84 KG  Bronze  \n",
       "31161  REZAEI, Ghasem Gholamreza     IRI    Men  Wg 96 KG    Gold  \n",
       "31162             TOTROV, Rustam     RUS    Men  Wg 96 KG  Silver  \n",
       "31163          ALEKSANYAN, Artur     ARM    Men  Wg 96 KG  Bronze  \n",
       "31164             LIDBERG, Jimmy     SWE    Men  Wg 96 KG  Bronze  "
      ]
     },
     "execution_count": 6,
     "metadata": {},
     "output_type": "execute_result"
    }
   ],
   "source": [
    "summer_df.tail()"
   ]
  },
  {
   "cell_type": "code",
   "execution_count": 8,
   "metadata": {},
   "outputs": [],
   "source": [
    "# 1. Which male athlete has won most medals ?\n",
    "# 2. Which female athlete has won most medals ?\n",
    "# 3. Which male & female athlete has won most gold ?\n",
    "# 4. Which country has won most medals ?"
   ]
  },
  {
   "cell_type": "code",
   "execution_count": 9,
   "metadata": {},
   "outputs": [],
   "source": [
    "male_df = summer_df[summer_df['Gender'] == 'Men']\n",
    "female_df = summer_df[summer_df['Gender'] == 'Women']"
   ]
  },
  {
   "cell_type": "code",
   "execution_count": 11,
   "metadata": {},
   "outputs": [
    {
     "data": {
      "text/plain": [
       "PHELPS, Michael         22\n",
       "ANDRIANOV, Nikolay      15\n",
       "SHAKHLIN, Boris         13\n",
       "MANGIAROTTI, Edoardo    13\n",
       "ONO, Takashi            13\n",
       "Name: Athlete, dtype: int64"
      ]
     },
     "execution_count": 11,
     "metadata": {},
     "output_type": "execute_result"
    }
   ],
   "source": [
    "pd.value_counts(male_df['Athlete']).head()"
   ]
  },
  {
   "cell_type": "code",
   "execution_count": 12,
   "metadata": {},
   "outputs": [
    {
     "data": {
      "text/plain": [
       "LATYNINA, Larisa     18\n",
       "COUGHLIN, Natalie    12\n",
       "FISCHER, Birgit      12\n",
       "TORRES, Dara         12\n",
       "THOMPSON, Jenny      12\n",
       "Name: Athlete, dtype: int64"
      ]
     },
     "execution_count": 12,
     "metadata": {},
     "output_type": "execute_result"
    }
   ],
   "source": [
    "pd.value_counts(female_df['Athlete']).head()"
   ]
  },
  {
   "cell_type": "code",
   "execution_count": 13,
   "metadata": {},
   "outputs": [],
   "source": [
    "male_gold = male_df[male_df['Medal'] == 'Gold']"
   ]
  },
  {
   "cell_type": "code",
   "execution_count": 15,
   "metadata": {},
   "outputs": [
    {
     "data": {
      "text/plain": [
       "(7698, 9)"
      ]
     },
     "execution_count": 15,
     "metadata": {},
     "output_type": "execute_result"
    }
   ],
   "source": [
    "male_gold.shape"
   ]
  },
  {
   "cell_type": "code",
   "execution_count": 17,
   "metadata": {},
   "outputs": [
    {
     "data": {
      "text/plain": [
       "PHELPS, Michael    18\n",
       "NURMI, Paavo        9\n",
       "LEWIS, Carl         9\n",
       "SPITZ, Mark         9\n",
       "BIONDI, Matthew     8\n",
       "Name: Athlete, dtype: int64"
      ]
     },
     "execution_count": 17,
     "metadata": {},
     "output_type": "execute_result"
    }
   ],
   "source": [
    "pd.value_counts(male_gold['Athlete']).head()"
   ]
  },
  {
   "cell_type": "code",
   "execution_count": 19,
   "metadata": {},
   "outputs": [
    {
     "data": {
      "text/plain": [
       "USA    4585\n",
       "URS    2049\n",
       "GBR    1720\n",
       "FRA    1396\n",
       "GER    1305\n",
       "Name: Country, dtype: int64"
      ]
     },
     "execution_count": 19,
     "metadata": {},
     "output_type": "execute_result"
    }
   ],
   "source": [
    "pd.value_counts(summer_df['Country']).head()"
   ]
  },
  {
   "cell_type": "code",
   "execution_count": 20,
   "metadata": {},
   "outputs": [],
   "source": [
    "# 1. In which year India started playing olympics ?\n",
    "# 2. In which sports India has won most medals ?\n",
    "# 3. Which Indian athlete has won most gold ?"
   ]
  },
  {
   "cell_type": "code",
   "execution_count": 21,
   "metadata": {},
   "outputs": [],
   "source": [
    "ind_df = summer_df[summer_df['Country'] == 'IND']"
   ]
  },
  {
   "cell_type": "code",
   "execution_count": 22,
   "metadata": {},
   "outputs": [
    {
     "data": {
      "text/html": [
       "<div>\n",
       "<style scoped>\n",
       "    .dataframe tbody tr th:only-of-type {\n",
       "        vertical-align: middle;\n",
       "    }\n",
       "\n",
       "    .dataframe tbody tr th {\n",
       "        vertical-align: top;\n",
       "    }\n",
       "\n",
       "    .dataframe thead th {\n",
       "        text-align: right;\n",
       "    }\n",
       "</style>\n",
       "<table border=\"1\" class=\"dataframe\">\n",
       "  <thead>\n",
       "    <tr style=\"text-align: right;\">\n",
       "      <th></th>\n",
       "      <th>Year</th>\n",
       "      <th>City</th>\n",
       "      <th>Sport</th>\n",
       "      <th>Discipline</th>\n",
       "      <th>Athlete</th>\n",
       "      <th>Country</th>\n",
       "      <th>Gender</th>\n",
       "      <th>Event</th>\n",
       "      <th>Medal</th>\n",
       "    </tr>\n",
       "  </thead>\n",
       "  <tbody>\n",
       "    <tr>\n",
       "      <th>241</th>\n",
       "      <td>1900</td>\n",
       "      <td>Paris</td>\n",
       "      <td>Athletics</td>\n",
       "      <td>Athletics</td>\n",
       "      <td>PRITCHARD, Norman</td>\n",
       "      <td>IND</td>\n",
       "      <td>Men</td>\n",
       "      <td>200M</td>\n",
       "      <td>Silver</td>\n",
       "    </tr>\n",
       "    <tr>\n",
       "      <th>244</th>\n",
       "      <td>1900</td>\n",
       "      <td>Paris</td>\n",
       "      <td>Athletics</td>\n",
       "      <td>Athletics</td>\n",
       "      <td>PRITCHARD, Norman</td>\n",
       "      <td>IND</td>\n",
       "      <td>Men</td>\n",
       "      <td>200M Hurdles</td>\n",
       "      <td>Silver</td>\n",
       "    </tr>\n",
       "    <tr>\n",
       "      <th>5512</th>\n",
       "      <td>1928</td>\n",
       "      <td>Amsterdam</td>\n",
       "      <td>Hockey</td>\n",
       "      <td>Hockey</td>\n",
       "      <td>ALLEN, Richard James</td>\n",
       "      <td>IND</td>\n",
       "      <td>Men</td>\n",
       "      <td>Hockey</td>\n",
       "      <td>Gold</td>\n",
       "    </tr>\n",
       "    <tr>\n",
       "      <th>5513</th>\n",
       "      <td>1928</td>\n",
       "      <td>Amsterdam</td>\n",
       "      <td>Hockey</td>\n",
       "      <td>Hockey</td>\n",
       "      <td>CHAND, Dyan</td>\n",
       "      <td>IND</td>\n",
       "      <td>Men</td>\n",
       "      <td>Hockey</td>\n",
       "      <td>Gold</td>\n",
       "    </tr>\n",
       "    <tr>\n",
       "      <th>5514</th>\n",
       "      <td>1928</td>\n",
       "      <td>Amsterdam</td>\n",
       "      <td>Hockey</td>\n",
       "      <td>Hockey</td>\n",
       "      <td>GATELEY, Maurice A.</td>\n",
       "      <td>IND</td>\n",
       "      <td>Men</td>\n",
       "      <td>Hockey</td>\n",
       "      <td>Gold</td>\n",
       "    </tr>\n",
       "  </tbody>\n",
       "</table>\n",
       "</div>"
      ],
      "text/plain": [
       "      Year       City      Sport Discipline               Athlete Country  \\\n",
       "241   1900      Paris  Athletics  Athletics     PRITCHARD, Norman     IND   \n",
       "244   1900      Paris  Athletics  Athletics     PRITCHARD, Norman     IND   \n",
       "5512  1928  Amsterdam     Hockey     Hockey  ALLEN, Richard James     IND   \n",
       "5513  1928  Amsterdam     Hockey     Hockey           CHAND, Dyan     IND   \n",
       "5514  1928  Amsterdam     Hockey     Hockey   GATELEY, Maurice A.     IND   \n",
       "\n",
       "     Gender         Event   Medal  \n",
       "241     Men          200M  Silver  \n",
       "244     Men  200M Hurdles  Silver  \n",
       "5512    Men        Hockey    Gold  \n",
       "5513    Men        Hockey    Gold  \n",
       "5514    Men        Hockey    Gold  "
      ]
     },
     "execution_count": 22,
     "metadata": {},
     "output_type": "execute_result"
    }
   ],
   "source": [
    "ind_df.head()"
   ]
  },
  {
   "cell_type": "code",
   "execution_count": 23,
   "metadata": {},
   "outputs": [
    {
     "data": {
      "text/plain": [
       "Hockey           169\n",
       "Shooting           4\n",
       "Wrestling          4\n",
       "Athletics          2\n",
       "Boxing             2\n",
       "Tennis             1\n",
       "Weightlifting      1\n",
       "Badminton          1\n",
       "Name: Sport, dtype: int64"
      ]
     },
     "execution_count": 23,
     "metadata": {},
     "output_type": "execute_result"
    }
   ],
   "source": [
    "pd.value_counts(ind_df['Sport'])"
   ]
  },
  {
   "cell_type": "code",
   "execution_count": null,
   "metadata": {},
   "outputs": [],
   "source": []
  }
 ],
 "metadata": {
  "kernelspec": {
   "display_name": "Python 3",
   "language": "python",
   "name": "python3"
  },
  "language_info": {
   "codemirror_mode": {
    "name": "ipython",
    "version": 3
   },
   "file_extension": ".py",
   "mimetype": "text/x-python",
   "name": "python",
   "nbconvert_exporter": "python",
   "pygments_lexer": "ipython3",
   "version": "3.8.5"
  }
 },
 "nbformat": 4,
 "nbformat_minor": 4
}
