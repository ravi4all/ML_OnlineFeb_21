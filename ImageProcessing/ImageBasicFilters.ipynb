{
 "cells": [
  {
   "cell_type": "code",
   "execution_count": 1,
   "metadata": {},
   "outputs": [],
   "source": [
    "import cv2"
   ]
  },
  {
   "cell_type": "code",
   "execution_count": 2,
   "metadata": {},
   "outputs": [],
   "source": [
    "# for camera\n",
    "cam = cv2.VideoCapture(0)\n",
    "\n",
    "# Gaussian Mixture\n",
    "sub_bg = cv2.createBackgroundSubtractorMOG2()\n",
    "\n",
    "while True:\n",
    "    flag, img = cam.read()\n",
    "    if flag:\n",
    "        #img = cv2.resize(img, None, fx=0.5, fy=0.5)\n",
    "        img_1 = sub_bg.apply(img)\n",
    "        cv2.imshow('result',img_1)\n",
    "        cv2.imshow('result_1',img)\n",
    "        if cv2.waitKey(2) == 27:\n",
    "            break\n",
    "    else:\n",
    "        print(\"Camera not working\")\n",
    "        \n",
    "cv2.destroyAllWindows()\n",
    "cam.release()"
   ]
  },
  {
   "cell_type": "code",
   "execution_count": 14,
   "metadata": {},
   "outputs": [],
   "source": [
    "# for camera\n",
    "cam = cv2.VideoCapture(0)\n",
    "\n",
    "while True:\n",
    "    flag, img = cam.read()\n",
    "    if flag:\n",
    "        #img = cv2.resize(img, None, fx=0.5, fy=0.5)\n",
    "        gauss = cv2.GaussianBlur(img, (15,15),10)\n",
    "        cv2.imshow('result_1',gauss)\n",
    "        if cv2.waitKey(2) == 27:\n",
    "            break\n",
    "    else:\n",
    "        print(\"Camera not working\")\n",
    "        \n",
    "cv2.destroyAllWindows()\n",
    "cam.release()"
   ]
  },
  {
   "cell_type": "code",
   "execution_count": null,
   "metadata": {},
   "outputs": [],
   "source": []
  }
 ],
 "metadata": {
  "kernelspec": {
   "display_name": "Python 3",
   "language": "python",
   "name": "python3"
  },
  "language_info": {
   "codemirror_mode": {
    "name": "ipython",
    "version": 3
   },
   "file_extension": ".py",
   "mimetype": "text/x-python",
   "name": "python",
   "nbconvert_exporter": "python",
   "pygments_lexer": "ipython3",
   "version": "3.8.5"
  }
 },
 "nbformat": 4,
 "nbformat_minor": 4
}
