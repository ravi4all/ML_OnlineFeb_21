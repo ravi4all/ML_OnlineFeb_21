{
 "cells": [
  {
   "cell_type": "code",
   "execution_count": 2,
   "metadata": {},
   "outputs": [
    {
     "name": "stdout",
     "output_type": "stream",
     "text": [
      "Collecting pymysql\n",
      "  Downloading PyMySQL-1.0.2-py3-none-any.whl (43 kB)\n",
      "Installing collected packages: pymysql\n",
      "Successfully installed pymysql-1.0.2\n"
     ]
    }
   ],
   "source": [
    "!pip install pymysql"
   ]
  },
  {
   "cell_type": "code",
   "execution_count": 3,
   "metadata": {},
   "outputs": [],
   "source": [
    "import pandas\n",
    "import pymysql"
   ]
  },
  {
   "cell_type": "code",
   "execution_count": 12,
   "metadata": {},
   "outputs": [],
   "source": [
    "connection = pymysql.connect(host = 'localhost', user = 'root',\n",
    "                            port = 3306, database = 'movie_db')"
   ]
  },
  {
   "cell_type": "code",
   "execution_count": 13,
   "metadata": {},
   "outputs": [
    {
     "data": {
      "text/plain": [
       "<pymysql.connections.Connection at 0x23d457431f0>"
      ]
     },
     "execution_count": 13,
     "metadata": {},
     "output_type": "execute_result"
    }
   ],
   "source": [
    "connection"
   ]
  },
  {
   "cell_type": "code",
   "execution_count": 14,
   "metadata": {},
   "outputs": [],
   "source": [
    "query = \"select * from movies\"\n",
    "df = pandas.read_sql(query, connection)"
   ]
  },
  {
   "cell_type": "code",
   "execution_count": 15,
   "metadata": {},
   "outputs": [
    {
     "data": {
      "text/html": [
       "<div>\n",
       "<style scoped>\n",
       "    .dataframe tbody tr th:only-of-type {\n",
       "        vertical-align: middle;\n",
       "    }\n",
       "\n",
       "    .dataframe tbody tr th {\n",
       "        vertical-align: top;\n",
       "    }\n",
       "\n",
       "    .dataframe thead th {\n",
       "        text-align: right;\n",
       "    }\n",
       "</style>\n",
       "<table border=\"1\" class=\"dataframe\">\n",
       "  <thead>\n",
       "    <tr style=\"text-align: right;\">\n",
       "      <th></th>\n",
       "      <th>m_id</th>\n",
       "      <th>m_name</th>\n",
       "      <th>m_image</th>\n",
       "      <th>m_desc</th>\n",
       "      <th>m_category</th>\n",
       "      <th>m_rating</th>\n",
       "    </tr>\n",
       "  </thead>\n",
       "  <tbody>\n",
       "    <tr>\n",
       "      <th>0</th>\n",
       "      <td>101</td>\n",
       "      <td>The Nun (2018)</td>\n",
       "      <td>https://m.media-amazon.com/images/M/MV5BMjM3Nz...</td>\n",
       "      <td>A priest with a haunted past and a novice on t...</td>\n",
       "      <td>Horror,Mystery,Thriller</td>\n",
       "      <td>5</td>\n",
       "    </tr>\n",
       "    <tr>\n",
       "      <th>1</th>\n",
       "      <td>102</td>\n",
       "      <td>Central Intelligence (2016)</td>\n",
       "      <td>https://m.media-amazon.com/images/M/MV5BMjA2Nz...</td>\n",
       "      <td>After he reconnects with an awkward pal from h...</td>\n",
       "      <td>Action, Comedy, Crime</td>\n",
       "      <td>6</td>\n",
       "    </tr>\n",
       "    <tr>\n",
       "      <th>2</th>\n",
       "      <td>103</td>\n",
       "      <td>K.G.F: Chapter 1 (2018)</td>\n",
       "      <td>https://m.media-amazon.com/images/M/MV5BNDIwMD...</td>\n",
       "      <td>Set in the 1970s, it's the story of a fierce r...</td>\n",
       "      <td>Action, Drama</td>\n",
       "      <td>8</td>\n",
       "    </tr>\n",
       "    <tr>\n",
       "      <th>3</th>\n",
       "      <td>104</td>\n",
       "      <td>Total Dhamaal (2019)</td>\n",
       "      <td>https://m.media-amazon.com/images/M/MV5BMTdiN2...</td>\n",
       "      <td>A group of people learn about a hidden treasur...</td>\n",
       "      <td>Action, Adventure, Comedy</td>\n",
       "      <td>4</td>\n",
       "    </tr>\n",
       "    <tr>\n",
       "      <th>4</th>\n",
       "      <td>105</td>\n",
       "      <td>Mission: Impossible - Fallout (2018)</td>\n",
       "      <td>https://m.media-amazon.com/images/M/MV5BNjRlZm...</td>\n",
       "      <td>Ethan Hunt and his IMF team, along with some f...</td>\n",
       "      <td>Action, Adventure, Thriller</td>\n",
       "      <td>8</td>\n",
       "    </tr>\n",
       "  </tbody>\n",
       "</table>\n",
       "</div>"
      ],
      "text/plain": [
       "   m_id                                m_name  \\\n",
       "0   101                        The Nun (2018)   \n",
       "1   102           Central Intelligence (2016)   \n",
       "2   103               K.G.F: Chapter 1 (2018)   \n",
       "3   104                  Total Dhamaal (2019)   \n",
       "4   105  Mission: Impossible - Fallout (2018)   \n",
       "\n",
       "                                             m_image  \\\n",
       "0  https://m.media-amazon.com/images/M/MV5BMjM3Nz...   \n",
       "1  https://m.media-amazon.com/images/M/MV5BMjA2Nz...   \n",
       "2  https://m.media-amazon.com/images/M/MV5BNDIwMD...   \n",
       "3  https://m.media-amazon.com/images/M/MV5BMTdiN2...   \n",
       "4  https://m.media-amazon.com/images/M/MV5BNjRlZm...   \n",
       "\n",
       "                                              m_desc  \\\n",
       "0  A priest with a haunted past and a novice on t...   \n",
       "1  After he reconnects with an awkward pal from h...   \n",
       "2  Set in the 1970s, it's the story of a fierce r...   \n",
       "3  A group of people learn about a hidden treasur...   \n",
       "4  Ethan Hunt and his IMF team, along with some f...   \n",
       "\n",
       "                    m_category  m_rating  \n",
       "0      Horror,Mystery,Thriller         5  \n",
       "1        Action, Comedy, Crime         6  \n",
       "2                Action, Drama         8  \n",
       "3    Action, Adventure, Comedy         4  \n",
       "4  Action, Adventure, Thriller         8  "
      ]
     },
     "execution_count": 15,
     "metadata": {},
     "output_type": "execute_result"
    }
   ],
   "source": [
    "df.head()"
   ]
  },
  {
   "cell_type": "code",
   "execution_count": 16,
   "metadata": {},
   "outputs": [],
   "source": [
    "query = \"select m_id, m_name, m_rating, m_category from movies\"\n",
    "df = pandas.read_sql(query, connection)"
   ]
  },
  {
   "cell_type": "code",
   "execution_count": 17,
   "metadata": {},
   "outputs": [
    {
     "data": {
      "text/html": [
       "<div>\n",
       "<style scoped>\n",
       "    .dataframe tbody tr th:only-of-type {\n",
       "        vertical-align: middle;\n",
       "    }\n",
       "\n",
       "    .dataframe tbody tr th {\n",
       "        vertical-align: top;\n",
       "    }\n",
       "\n",
       "    .dataframe thead th {\n",
       "        text-align: right;\n",
       "    }\n",
       "</style>\n",
       "<table border=\"1\" class=\"dataframe\">\n",
       "  <thead>\n",
       "    <tr style=\"text-align: right;\">\n",
       "      <th></th>\n",
       "      <th>m_id</th>\n",
       "      <th>m_name</th>\n",
       "      <th>m_rating</th>\n",
       "      <th>m_category</th>\n",
       "    </tr>\n",
       "  </thead>\n",
       "  <tbody>\n",
       "    <tr>\n",
       "      <th>0</th>\n",
       "      <td>101</td>\n",
       "      <td>The Nun (2018)</td>\n",
       "      <td>5</td>\n",
       "      <td>Horror,Mystery,Thriller</td>\n",
       "    </tr>\n",
       "    <tr>\n",
       "      <th>1</th>\n",
       "      <td>102</td>\n",
       "      <td>Central Intelligence (2016)</td>\n",
       "      <td>6</td>\n",
       "      <td>Action, Comedy, Crime</td>\n",
       "    </tr>\n",
       "    <tr>\n",
       "      <th>2</th>\n",
       "      <td>103</td>\n",
       "      <td>K.G.F: Chapter 1 (2018)</td>\n",
       "      <td>8</td>\n",
       "      <td>Action, Drama</td>\n",
       "    </tr>\n",
       "    <tr>\n",
       "      <th>3</th>\n",
       "      <td>104</td>\n",
       "      <td>Total Dhamaal (2019)</td>\n",
       "      <td>4</td>\n",
       "      <td>Action, Adventure, Comedy</td>\n",
       "    </tr>\n",
       "    <tr>\n",
       "      <th>4</th>\n",
       "      <td>105</td>\n",
       "      <td>Mission: Impossible - Fallout (2018)</td>\n",
       "      <td>8</td>\n",
       "      <td>Action, Adventure, Thriller</td>\n",
       "    </tr>\n",
       "    <tr>\n",
       "      <th>5</th>\n",
       "      <td>106</td>\n",
       "      <td>Avengers: Endgame (2019)</td>\n",
       "      <td>9</td>\n",
       "      <td>Action, Adventure, Sci-Fi</td>\n",
       "    </tr>\n",
       "    <tr>\n",
       "      <th>6</th>\n",
       "      <td>107</td>\n",
       "      <td>Spider-Man: Far from Home (2019)</td>\n",
       "      <td>8</td>\n",
       "      <td>Action, Adventure, Sci-Fi</td>\n",
       "    </tr>\n",
       "    <tr>\n",
       "      <th>7</th>\n",
       "      <td>108</td>\n",
       "      <td>Dumb and Dumber (1994)</td>\n",
       "      <td>7</td>\n",
       "      <td>Comedy</td>\n",
       "    </tr>\n",
       "    <tr>\n",
       "      <th>8</th>\n",
       "      <td>109</td>\n",
       "      <td>The Conjuring (2013)</td>\n",
       "      <td>7</td>\n",
       "      <td>Horror, Mystery, Thriller</td>\n",
       "    </tr>\n",
       "    <tr>\n",
       "      <th>9</th>\n",
       "      <td>110</td>\n",
       "      <td>Arjun Reddy (2017)</td>\n",
       "      <td>8</td>\n",
       "      <td>Action, Drama, Romance</td>\n",
       "    </tr>\n",
       "  </tbody>\n",
       "</table>\n",
       "</div>"
      ],
      "text/plain": [
       "   m_id                                m_name  m_rating  \\\n",
       "0   101                        The Nun (2018)         5   \n",
       "1   102           Central Intelligence (2016)         6   \n",
       "2   103               K.G.F: Chapter 1 (2018)         8   \n",
       "3   104                  Total Dhamaal (2019)         4   \n",
       "4   105  Mission: Impossible - Fallout (2018)         8   \n",
       "5   106              Avengers: Endgame (2019)         9   \n",
       "6   107      Spider-Man: Far from Home (2019)         8   \n",
       "7   108                Dumb and Dumber (1994)         7   \n",
       "8   109                  The Conjuring (2013)         7   \n",
       "9   110                    Arjun Reddy (2017)         8   \n",
       "\n",
       "                    m_category  \n",
       "0      Horror,Mystery,Thriller  \n",
       "1        Action, Comedy, Crime  \n",
       "2                Action, Drama  \n",
       "3    Action, Adventure, Comedy  \n",
       "4  Action, Adventure, Thriller  \n",
       "5    Action, Adventure, Sci-Fi  \n",
       "6   Action, Adventure, Sci-Fi   \n",
       "7                       Comedy  \n",
       "8    Horror, Mystery, Thriller  \n",
       "9       Action, Drama, Romance  "
      ]
     },
     "execution_count": 17,
     "metadata": {},
     "output_type": "execute_result"
    }
   ],
   "source": [
    "df"
   ]
  },
  {
   "cell_type": "code",
   "execution_count": 18,
   "metadata": {},
   "outputs": [],
   "source": [
    "query = \"select m_id, m_name, m_rating, m_category from movies where m_rating > 7\"\n",
    "df = pandas.read_sql(query, connection)"
   ]
  },
  {
   "cell_type": "code",
   "execution_count": 19,
   "metadata": {},
   "outputs": [
    {
     "data": {
      "text/html": [
       "<div>\n",
       "<style scoped>\n",
       "    .dataframe tbody tr th:only-of-type {\n",
       "        vertical-align: middle;\n",
       "    }\n",
       "\n",
       "    .dataframe tbody tr th {\n",
       "        vertical-align: top;\n",
       "    }\n",
       "\n",
       "    .dataframe thead th {\n",
       "        text-align: right;\n",
       "    }\n",
       "</style>\n",
       "<table border=\"1\" class=\"dataframe\">\n",
       "  <thead>\n",
       "    <tr style=\"text-align: right;\">\n",
       "      <th></th>\n",
       "      <th>m_id</th>\n",
       "      <th>m_name</th>\n",
       "      <th>m_rating</th>\n",
       "      <th>m_category</th>\n",
       "    </tr>\n",
       "  </thead>\n",
       "  <tbody>\n",
       "    <tr>\n",
       "      <th>0</th>\n",
       "      <td>103</td>\n",
       "      <td>K.G.F: Chapter 1 (2018)</td>\n",
       "      <td>8</td>\n",
       "      <td>Action, Drama</td>\n",
       "    </tr>\n",
       "    <tr>\n",
       "      <th>1</th>\n",
       "      <td>105</td>\n",
       "      <td>Mission: Impossible - Fallout (2018)</td>\n",
       "      <td>8</td>\n",
       "      <td>Action, Adventure, Thriller</td>\n",
       "    </tr>\n",
       "    <tr>\n",
       "      <th>2</th>\n",
       "      <td>106</td>\n",
       "      <td>Avengers: Endgame (2019)</td>\n",
       "      <td>9</td>\n",
       "      <td>Action, Adventure, Sci-Fi</td>\n",
       "    </tr>\n",
       "    <tr>\n",
       "      <th>3</th>\n",
       "      <td>107</td>\n",
       "      <td>Spider-Man: Far from Home (2019)</td>\n",
       "      <td>8</td>\n",
       "      <td>Action, Adventure, Sci-Fi</td>\n",
       "    </tr>\n",
       "    <tr>\n",
       "      <th>4</th>\n",
       "      <td>110</td>\n",
       "      <td>Arjun Reddy (2017)</td>\n",
       "      <td>8</td>\n",
       "      <td>Action, Drama, Romance</td>\n",
       "    </tr>\n",
       "  </tbody>\n",
       "</table>\n",
       "</div>"
      ],
      "text/plain": [
       "   m_id                                m_name  m_rating  \\\n",
       "0   103               K.G.F: Chapter 1 (2018)         8   \n",
       "1   105  Mission: Impossible - Fallout (2018)         8   \n",
       "2   106              Avengers: Endgame (2019)         9   \n",
       "3   107      Spider-Man: Far from Home (2019)         8   \n",
       "4   110                    Arjun Reddy (2017)         8   \n",
       "\n",
       "                    m_category  \n",
       "0                Action, Drama  \n",
       "1  Action, Adventure, Thriller  \n",
       "2    Action, Adventure, Sci-Fi  \n",
       "3   Action, Adventure, Sci-Fi   \n",
       "4       Action, Drama, Romance  "
      ]
     },
     "execution_count": 19,
     "metadata": {},
     "output_type": "execute_result"
    }
   ],
   "source": [
    "df"
   ]
  },
  {
   "cell_type": "code",
   "execution_count": null,
   "metadata": {},
   "outputs": [],
   "source": []
  }
 ],
 "metadata": {
  "kernelspec": {
   "display_name": "Python 3",
   "language": "python",
   "name": "python3"
  },
  "language_info": {
   "codemirror_mode": {
    "name": "ipython",
    "version": 3
   },
   "file_extension": ".py",
   "mimetype": "text/x-python",
   "name": "python",
   "nbconvert_exporter": "python",
   "pygments_lexer": "ipython3",
   "version": "3.8.5"
  }
 },
 "nbformat": 4,
 "nbformat_minor": 4
}
