{
 "cells": [
  {
   "cell_type": "code",
   "execution_count": 1,
   "metadata": {},
   "outputs": [],
   "source": [
    "import urllib.request as url\n",
    "import bs4"
   ]
  },
  {
   "cell_type": "code",
   "execution_count": 12,
   "metadata": {},
   "outputs": [
    {
     "name": "stdout",
     "output_type": "stream",
     "text": [
      "Enter product name : iphone\n"
     ]
    }
   ],
   "source": [
    "p_name = input(\"Enter product name : \")"
   ]
  },
  {
   "cell_type": "code",
   "execution_count": 13,
   "metadata": {},
   "outputs": [],
   "source": [
    "path = \"https://www.flipkart.com/search?q={}&otracker=search&otracker1=search&marketplace=FLIPKART&as-show=on&as=off\".format(p_name)"
   ]
  },
  {
   "cell_type": "code",
   "execution_count": 14,
   "metadata": {},
   "outputs": [],
   "source": [
    "res = url.urlopen(path)\n",
    "page = bs4.BeautifulSoup(res)"
   ]
  },
  {
   "cell_type": "code",
   "execution_count": 22,
   "metadata": {},
   "outputs": [],
   "source": [
    "titles = page.find_all('div', class_='_4rR01T')\n",
    "priceList = page.find_all('div', class_='_30jeq3 _1_WHN1')\n",
    "\n",
    "if len(titles) == 0 and len(priceList) == 0:\n",
    "    priceList = []\n",
    "    titles = page.find_all('a', class_='s1Q9rs')\n",
    "    #priceList = page.find_all('div', class_='_30jeq3')\n",
    "    priceListDiv = page.find_all('a', class_='_8VNy32')\n",
    "    for i in range(len(priceListDiv)):\n",
    "        priceList.append(priceListDiv[i].find('div', class_='_30jeq3'))"
   ]
  },
  {
   "cell_type": "code",
   "execution_count": 23,
   "metadata": {},
   "outputs": [
    {
     "data": {
      "text/plain": [
       "40"
      ]
     },
     "execution_count": 23,
     "metadata": {},
     "output_type": "execute_result"
    }
   ],
   "source": [
    "len(priceList)"
   ]
  },
  {
   "cell_type": "code",
   "execution_count": 24,
   "metadata": {},
   "outputs": [
    {
     "data": {
      "text/plain": [
       "(40, 40)"
      ]
     },
     "execution_count": 24,
     "metadata": {},
     "output_type": "execute_result"
    }
   ],
   "source": [
    "len(titles), len(priceList)"
   ]
  },
  {
   "cell_type": "code",
   "execution_count": 25,
   "metadata": {},
   "outputs": [
    {
     "name": "stdout",
     "output_type": "stream",
     "text": [
      "Apple iPhone SE (Black, 64 GB) (Includes EarPods, Power...\n",
      "₹34,999\n",
      "****************************************\n",
      "Apple iPhone SE (White, 64 GB) (Includes EarPods, Power...\n",
      "₹34,999\n",
      "****************************************\n",
      "Apple iPhone SE (Black, 128 GB) (Includes EarPods, Powe...\n",
      "₹39,999\n",
      "****************************************\n",
      "JBR screen secure Screen Guard for iPhone 11\n",
      "₹199\n",
      "****************************************\n",
      "Apple iPhone 11 (White, 64 GB)\n",
      "₹51,999\n",
      "****************************************\n",
      "Apple iPhone 11 (White, 128 GB)\n",
      "₹56,999\n",
      "****************************************\n",
      "Apple iPhone XR (Black, 64 GB) (Includes EarPods, Power...\n",
      "₹43,999\n",
      "****************************************\n",
      "Apple iPhone 11 (Green, 128 GB)\n",
      "₹56,999\n",
      "****************************************\n",
      "Apple iPhone XR (White, 64 GB) (Includes EarPods, Power...\n",
      "₹43,999\n",
      "****************************************\n",
      "Apple iPhone SE (Red, 64 GB) (Includes EarPods, Power A...\n",
      "₹34,999\n",
      "****************************************\n",
      "Apple iPhone 11 (Black, 64 GB)\n",
      "₹51,999\n",
      "****************************************\n",
      "Apple iPhone 11 (Purple, 64 GB)\n",
      "₹51,999\n",
      "****************************************\n",
      "Apple iPhone XR (Black, 128 GB) (Includes EarPods, Powe...\n",
      "₹48,999\n",
      "****************************************\n",
      "JBR screen secure Screen Guard for iPhone 12 Pro\n",
      "₹199\n",
      "****************************************\n",
      "Ubon White AUDIO AUX CONVERTER CABLE 8PIN LIGHTING TO 3...\n",
      "₹299\n",
      "****************************************\n",
      "Apple iPhone SE (Red, 128 GB) (Includes EarPods, Power ...\n",
      "₹39,999\n",
      "****************************************\n",
      "Apple iPhone 11 (Black, 128 GB)\n",
      "₹56,999\n",
      "****************************************\n",
      "Apple iPhone SE (White, 128 GB) (Includes EarPods, Powe...\n",
      "₹39,999\n",
      "****************************************\n",
      "Apple iPhone 11 (Red, 128 GB)\n",
      "₹56,999\n",
      "****************************************\n",
      "JBR screen secure Screen Guard for iPhone 12 Pro Max\n",
      "₹199\n",
      "****************************************\n",
      "Apple iPhone 11 (Purple, 128 GB) (Includes EarPods, Pow...\n",
      "₹64,999\n",
      "****************************************\n",
      "Apple iPhone XR (White, 128 GB) (Includes EarPods, Powe...\n",
      "₹48,999\n",
      "****************************************\n",
      "Apple iPhone XR ((PRODUCT)RED, 128 GB) (Includes EarPod...\n",
      "₹48,999\n",
      "****************************************\n",
      "VAlight Edge To Edge Tempered Glass for Apple iPhone 6s\n",
      "₹189\n",
      "****************************************\n",
      "Apple iPhone XR ((PRODUCT)RED, 64 GB) (Includes EarPods...\n",
      "₹43,999\n",
      "****************************************\n",
      "Apple iPhone 11 (Purple, 128 GB)\n",
      "₹56,999\n",
      "****************************************\n",
      "Apple iPhone XR (Coral, 64 GB) (Includes EarPods, Power...\n",
      "₹43,999\n",
      "****************************************\n",
      "Apple iPhone XR (Blue, 64 GB) (Includes EarPods, Power ...\n",
      "₹43,999\n",
      "****************************************\n",
      "Apple iPhone 11 (Green, 64 GB)\n",
      "₹51,999\n",
      "****************************************\n",
      "FILOX Tempered Glass Guard for Apple iPhone X\n",
      "₹199\n",
      "****************************************\n",
      "RR Gallery Front and Back Tempered Glass for Apple Ipho...\n",
      "₹249\n",
      "****************************************\n",
      "Apple iPhone XR (Coral, 128 GB) (Includes EarPods, Powe...\n",
      "₹48,999\n",
      "****************************************\n",
      "Apple iPhone SE (Black, 256 GB) (Includes EarPods, Powe...\n",
      "₹49,999\n",
      "****************************************\n",
      "FILOX Edge To Edge Tempered Glass for Apple iPhone 8 Pl...\n",
      "₹199\n",
      "****************************************\n",
      "Apple iPhone SE (Red, 256 GB) (Includes EarPods, Power ...\n",
      "₹49,999\n",
      "****************************************\n",
      "Apple iPhone XR (Blue, 128 GB) (Includes EarPods, Power...\n",
      "₹48,999\n",
      "****************************************\n",
      "Apple iPhone 11 (Black, 128 GB) (Includes EarPods, Powe...\n",
      "₹64,999\n",
      "****************************************\n",
      "Apple iPhone 11 (Red, 64 GB)\n",
      "₹51,999\n",
      "****************************************\n",
      "Apple iPhone 12 (Black, 64 GB)\n",
      "₹79,900\n",
      "****************************************\n",
      "SHRINO Edge To Edge Tempered Glass for Shrino iPhone xr...\n",
      "₹499\n",
      "****************************************\n"
     ]
    }
   ],
   "source": [
    "for i in range(len(titles)):\n",
    "    print(titles[i].text)\n",
    "    print(priceList[i].text)\n",
    "    print(\"*\" * 40)"
   ]
  },
  {
   "cell_type": "code",
   "execution_count": null,
   "metadata": {},
   "outputs": [],
   "source": []
  }
 ],
 "metadata": {
  "kernelspec": {
   "display_name": "Python 3",
   "language": "python",
   "name": "python3"
  },
  "language_info": {
   "codemirror_mode": {
    "name": "ipython",
    "version": 3
   },
   "file_extension": ".py",
   "mimetype": "text/x-python",
   "name": "python",
   "nbconvert_exporter": "python",
   "pygments_lexer": "ipython3",
   "version": "3.8.5"
  }
 },
 "nbformat": 4,
 "nbformat_minor": 4
}
